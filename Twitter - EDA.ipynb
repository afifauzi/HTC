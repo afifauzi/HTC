{
 "cells": [
  {
   "cell_type": "markdown",
   "id": "92c1cec3",
   "metadata": {},
   "source": [
    "## Exploritory Data Analysis (EDA)"
   ]
  },
  {
   "cell_type": "code",
   "execution_count": 1,
   "id": "c84f2a25",
   "metadata": {
    "scrolled": true
   },
   "outputs": [
    {
     "name": "stderr",
     "output_type": "stream",
     "text": [
      "C:\\Users\\afifa\\AppData\\Local\\Temp\\ipykernel_8820\\917133489.py:4: DtypeWarning: Columns (4,6) have mixed types. Specify dtype option on import or set low_memory=False.\n",
      "  data = pd.read_csv(r\"D:\\Afif\\HTC\\drive-download-20230511T014039Z-001\\raw_twitter_parti_politik_2022_1_2022_05_21.csv\")\n"
     ]
    },
    {
     "data": {
      "text/html": [
       "<div>\n",
       "<style scoped>\n",
       "    .dataframe tbody tr th:only-of-type {\n",
       "        vertical-align: middle;\n",
       "    }\n",
       "\n",
       "    .dataframe tbody tr th {\n",
       "        vertical-align: top;\n",
       "    }\n",
       "\n",
       "    .dataframe thead th {\n",
       "        text-align: right;\n",
       "    }\n",
       "</style>\n",
       "<table border=\"1\" class=\"dataframe\">\n",
       "  <thead>\n",
       "    <tr style=\"text-align: right;\">\n",
       "      <th></th>\n",
       "      <th>id</th>\n",
       "      <th>user_created_time</th>\n",
       "      <th>user</th>\n",
       "      <th>user_description</th>\n",
       "      <th>user_followers_count</th>\n",
       "      <th>user_profile_location</th>\n",
       "      <th>tweet_geo_loc</th>\n",
       "      <th>tweets</th>\n",
       "      <th>likes</th>\n",
       "      <th>time</th>\n",
       "    </tr>\n",
       "  </thead>\n",
       "  <tbody>\n",
       "    <tr>\n",
       "      <th>0</th>\n",
       "      <td>321255263</td>\n",
       "      <td>Tue Jun 21 08:15:13 +0000 2011</td>\n",
       "      <td>adamchairy</td>\n",
       "      <td>| Cat | Ride | Drive | its not over until i win</td>\n",
       "      <td>376</td>\n",
       "      <td>The Bos Gaurus</td>\n",
       "      <td>NaN</td>\n",
       "      <td>RT @fadzmel: Tiba-tiba dah jadi veteran UMNO? ...</td>\n",
       "      <td>0.0</td>\n",
       "      <td>2022-05-20 15:58:43+00:00</td>\n",
       "    </tr>\n",
       "    <tr>\n",
       "      <th>1</th>\n",
       "      <td>217651297</td>\n",
       "      <td>Sat Nov 20 03:24:59 +0000 2010</td>\n",
       "      <td>ajambenuden</td>\n",
       "      <td>Penjahat Skateboards #YNWA #gengjahat</td>\n",
       "      <td>501</td>\n",
       "      <td>Keramat Smart</td>\n",
       "      <td>NaN</td>\n",
       "      <td>RT @BadBoy2662: Parti UMNO sah parti babi. Ker...</td>\n",
       "      <td>0.0</td>\n",
       "      <td>2022-05-20 15:58:17+00:00</td>\n",
       "    </tr>\n",
       "    <tr>\n",
       "      <th>2</th>\n",
       "      <td>19079731</td>\n",
       "      <td>Fri Jan 16 18:50:11 +0000 2009</td>\n",
       "      <td>chicarosa</td>\n",
       "      <td>A broken dreamer trying to find her place in s...</td>\n",
       "      <td>489</td>\n",
       "      <td>Kuala Lumpur, Malaysia</td>\n",
       "      <td>NaN</td>\n",
       "      <td>RT @esKahn: I assure you, Ultra Kirana isn't t...</td>\n",
       "      <td>0.0</td>\n",
       "      <td>2022-05-20 15:57:55+00:00</td>\n",
       "    </tr>\n",
       "    <tr>\n",
       "      <th>3</th>\n",
       "      <td>953619050</td>\n",
       "      <td>Sat Nov 17 13:54:06 +0000 2012</td>\n",
       "      <td>lunadellana</td>\n",
       "      <td>NaN</td>\n",
       "      <td>1063</td>\n",
       "      <td>NaN</td>\n",
       "      <td>NaN</td>\n",
       "      <td>RT @BadBoy2662: Babi tak babi laa Presiden UMN...</td>\n",
       "      <td>0.0</td>\n",
       "      <td>2022-05-20 15:55:21+00:00</td>\n",
       "    </tr>\n",
       "    <tr>\n",
       "      <th>4</th>\n",
       "      <td>1600369057</td>\n",
       "      <td>Wed Jul 17 07:23:02 +0000 2013</td>\n",
       "      <td>MalaysiaGazette</td>\n",
       "      <td>Malaysian Mind Sprouting News Portal</td>\n",
       "      <td>126518</td>\n",
       "      <td>Kuala Lumpur</td>\n",
       "      <td>NaN</td>\n",
       "      <td>UMNO dan Pas perlu cari kata putus #malaysiaga...</td>\n",
       "      <td>0.0</td>\n",
       "      <td>2022-05-20 15:55:13+00:00</td>\n",
       "    </tr>\n",
       "    <tr>\n",
       "      <th>...</th>\n",
       "      <td>...</td>\n",
       "      <td>...</td>\n",
       "      <td>...</td>\n",
       "      <td>...</td>\n",
       "      <td>...</td>\n",
       "      <td>...</td>\n",
       "      <td>...</td>\n",
       "      <td>...</td>\n",
       "      <td>...</td>\n",
       "      <td>...</td>\n",
       "    </tr>\n",
       "    <tr>\n",
       "      <th>71684</th>\n",
       "      <td>832358882</td>\n",
       "      <td>Wed Sep 19 02:22:13 +0000 2012</td>\n",
       "      <td>KucinSuzzy</td>\n",
       "      <td>NaN</td>\n",
       "      <td>139.0</td>\n",
       "      <td>NaN</td>\n",
       "      <td>NaN</td>\n",
       "      <td>RT @hakarim_51: https://t.co/27vo0P5dOZ</td>\n",
       "      <td>0.0</td>\n",
       "      <td>2022-05-12 08:16:49+00:00</td>\n",
       "    </tr>\n",
       "    <tr>\n",
       "      <th>71685</th>\n",
       "      <td>784631839717744644</td>\n",
       "      <td>Sat Oct 08 05:49:43 +0000 2016</td>\n",
       "      <td>chshoaibmunir1</td>\n",
       "      <td>A student and well wisher of Nation</td>\n",
       "      <td>268.0</td>\n",
       "      <td>NaN</td>\n",
       "      <td>NaN</td>\n",
       "      <td>RT @RealYasir__Khan: Due to money laundering o...</td>\n",
       "      <td>0.0</td>\n",
       "      <td>2022-05-12 08:15:06+00:00</td>\n",
       "    </tr>\n",
       "    <tr>\n",
       "      <th>71686</th>\n",
       "      <td>784631839717744644</td>\n",
       "      <td>Sat Oct 08 05:49:43 +0000 2016</td>\n",
       "      <td>chshoaibmunir1</td>\n",
       "      <td>A student and well wisher of Nation</td>\n",
       "      <td>268.0</td>\n",
       "      <td>NaN</td>\n",
       "      <td>NaN</td>\n",
       "      <td>RT @RealYasir__Khan: None can beat Pmln in inc...</td>\n",
       "      <td>0.0</td>\n",
       "      <td>2022-05-12 08:13:55+00:00</td>\n",
       "    </tr>\n",
       "    <tr>\n",
       "      <th>71687</th>\n",
       "      <td>217651297</td>\n",
       "      <td>Sat Nov 20 03:24:59 +0000 2010</td>\n",
       "      <td>ajambenuden</td>\n",
       "      <td>Penjahat Skateboards #YNWA #gengjahat</td>\n",
       "      <td>501.0</td>\n",
       "      <td>Keramat Smart</td>\n",
       "      <td>NaN</td>\n",
       "      <td>RT @KartunisGandum: Abang cadangkan PKR buat d...</td>\n",
       "      <td>0.0</td>\n",
       "      <td>2022-05-12 08:13:43+00:00</td>\n",
       "    </tr>\n",
       "    <tr>\n",
       "      <th>71688</th>\n",
       "      <td>228057523</td>\n",
       "      <td>Sat Dec 18 15:57:55 +0000 2010</td>\n",
       "      <td>MaisarraAnuar</td>\n",
       "      <td>CEO Pertubuhan anak yatim &amp; ibu tunggal (SRC I...</td>\n",
       "      <td>3158.0</td>\n",
       "      <td>Malaysia</td>\n",
       "      <td>NaN</td>\n",
       "      <td>RT @MenteriBesarNS: Menyertai Jelajah Yakini R...</td>\n",
       "      <td>0.0</td>\n",
       "      <td>2022-05-12 08:09:45+00:00</td>\n",
       "    </tr>\n",
       "  </tbody>\n",
       "</table>\n",
       "<p>71689 rows × 10 columns</p>\n",
       "</div>"
      ],
      "text/plain": [
       "                       id               user_created_time             user   \n",
       "0               321255263  Tue Jun 21 08:15:13 +0000 2011       adamchairy  \\\n",
       "1               217651297  Sat Nov 20 03:24:59 +0000 2010      ajambenuden   \n",
       "2                19079731  Fri Jan 16 18:50:11 +0000 2009        chicarosa   \n",
       "3               953619050  Sat Nov 17 13:54:06 +0000 2012      lunadellana   \n",
       "4              1600369057  Wed Jul 17 07:23:02 +0000 2013  MalaysiaGazette   \n",
       "...                   ...                             ...              ...   \n",
       "71684           832358882  Wed Sep 19 02:22:13 +0000 2012       KucinSuzzy   \n",
       "71685  784631839717744644  Sat Oct 08 05:49:43 +0000 2016   chshoaibmunir1   \n",
       "71686  784631839717744644  Sat Oct 08 05:49:43 +0000 2016   chshoaibmunir1   \n",
       "71687           217651297  Sat Nov 20 03:24:59 +0000 2010      ajambenuden   \n",
       "71688           228057523  Sat Dec 18 15:57:55 +0000 2010    MaisarraAnuar   \n",
       "\n",
       "                                        user_description user_followers_count   \n",
       "0        | Cat | Ride | Drive | its not over until i win                  376  \\\n",
       "1                  Penjahat Skateboards #YNWA #gengjahat                  501   \n",
       "2      A broken dreamer trying to find her place in s...                  489   \n",
       "3                                                    NaN                 1063   \n",
       "4                   Malaysian Mind Sprouting News Portal               126518   \n",
       "...                                                  ...                  ...   \n",
       "71684                                                NaN                139.0   \n",
       "71685                A student and well wisher of Nation                268.0   \n",
       "71686                A student and well wisher of Nation                268.0   \n",
       "71687              Penjahat Skateboards #YNWA #gengjahat                501.0   \n",
       "71688  CEO Pertubuhan anak yatim & ibu tunggal (SRC I...               3158.0   \n",
       "\n",
       "        user_profile_location tweet_geo_loc   \n",
       "0             The Bos Gaurus            NaN  \\\n",
       "1              Keramat Smart            NaN   \n",
       "2      Kuala Lumpur, Malaysia           NaN   \n",
       "3                         NaN           NaN   \n",
       "4                Kuala Lumpur           NaN   \n",
       "...                       ...           ...   \n",
       "71684                     NaN           NaN   \n",
       "71685                     NaN           NaN   \n",
       "71686                     NaN           NaN   \n",
       "71687          Keramat Smart            NaN   \n",
       "71688                Malaysia           NaN   \n",
       "\n",
       "                                                  tweets  likes   \n",
       "0      RT @fadzmel: Tiba-tiba dah jadi veteran UMNO? ...    0.0  \\\n",
       "1      RT @BadBoy2662: Parti UMNO sah parti babi. Ker...    0.0   \n",
       "2      RT @esKahn: I assure you, Ultra Kirana isn't t...    0.0   \n",
       "3      RT @BadBoy2662: Babi tak babi laa Presiden UMN...    0.0   \n",
       "4      UMNO dan Pas perlu cari kata putus #malaysiaga...    0.0   \n",
       "...                                                  ...    ...   \n",
       "71684            RT @hakarim_51: https://t.co/27vo0P5dOZ    0.0   \n",
       "71685  RT @RealYasir__Khan: Due to money laundering o...    0.0   \n",
       "71686  RT @RealYasir__Khan: None can beat Pmln in inc...    0.0   \n",
       "71687  RT @KartunisGandum: Abang cadangkan PKR buat d...    0.0   \n",
       "71688  RT @MenteriBesarNS: Menyertai Jelajah Yakini R...    0.0   \n",
       "\n",
       "                            time  \n",
       "0      2022-05-20 15:58:43+00:00  \n",
       "1      2022-05-20 15:58:17+00:00  \n",
       "2      2022-05-20 15:57:55+00:00  \n",
       "3      2022-05-20 15:55:21+00:00  \n",
       "4      2022-05-20 15:55:13+00:00  \n",
       "...                          ...  \n",
       "71684  2022-05-12 08:16:49+00:00  \n",
       "71685  2022-05-12 08:15:06+00:00  \n",
       "71686  2022-05-12 08:13:55+00:00  \n",
       "71687  2022-05-12 08:13:43+00:00  \n",
       "71688  2022-05-12 08:09:45+00:00  \n",
       "\n",
       "[71689 rows x 10 columns]"
      ]
     },
     "execution_count": 1,
     "metadata": {},
     "output_type": "execute_result"
    }
   ],
   "source": [
    "import pandas as pd\n",
    "import numpy as np\n",
    "\n",
    "data = pd.read_csv(r\"D:\\Afif\\HTC\\drive-download-20230511T014039Z-001\\raw_twitter_parti_politik_2022_1_2022_05_21.csv\")\n",
    "data"
   ]
  },
  {
   "cell_type": "code",
   "execution_count": 2,
   "id": "42f1a2b6",
   "metadata": {},
   "outputs": [
    {
     "data": {
      "text/plain": [
       "(71689, 10)"
      ]
     },
     "execution_count": 2,
     "metadata": {},
     "output_type": "execute_result"
    }
   ],
   "source": [
    "# (num of rows, num of columns)\n",
    "data.shape "
   ]
  },
  {
   "cell_type": "code",
   "execution_count": 3,
   "id": "6720631e",
   "metadata": {},
   "outputs": [
    {
     "data": {
      "text/html": [
       "<div>\n",
       "<style scoped>\n",
       "    .dataframe tbody tr th:only-of-type {\n",
       "        vertical-align: middle;\n",
       "    }\n",
       "\n",
       "    .dataframe tbody tr th {\n",
       "        vertical-align: top;\n",
       "    }\n",
       "\n",
       "    .dataframe thead th {\n",
       "        text-align: right;\n",
       "    }\n",
       "</style>\n",
       "<table border=\"1\" class=\"dataframe\">\n",
       "  <thead>\n",
       "    <tr style=\"text-align: right;\">\n",
       "      <th></th>\n",
       "      <th>likes</th>\n",
       "    </tr>\n",
       "  </thead>\n",
       "  <tbody>\n",
       "    <tr>\n",
       "      <th>count</th>\n",
       "      <td>50480.000000</td>\n",
       "    </tr>\n",
       "    <tr>\n",
       "      <th>mean</th>\n",
       "      <td>2.665432</td>\n",
       "    </tr>\n",
       "    <tr>\n",
       "      <th>std</th>\n",
       "      <td>59.406168</td>\n",
       "    </tr>\n",
       "    <tr>\n",
       "      <th>min</th>\n",
       "      <td>0.000000</td>\n",
       "    </tr>\n",
       "    <tr>\n",
       "      <th>25%</th>\n",
       "      <td>0.000000</td>\n",
       "    </tr>\n",
       "    <tr>\n",
       "      <th>50%</th>\n",
       "      <td>0.000000</td>\n",
       "    </tr>\n",
       "    <tr>\n",
       "      <th>75%</th>\n",
       "      <td>0.000000</td>\n",
       "    </tr>\n",
       "    <tr>\n",
       "      <th>max</th>\n",
       "      <td>6021.000000</td>\n",
       "    </tr>\n",
       "  </tbody>\n",
       "</table>\n",
       "</div>"
      ],
      "text/plain": [
       "              likes\n",
       "count  50480.000000\n",
       "mean       2.665432\n",
       "std       59.406168\n",
       "min        0.000000\n",
       "25%        0.000000\n",
       "50%        0.000000\n",
       "75%        0.000000\n",
       "max     6021.000000"
      ]
     },
     "execution_count": 3,
     "metadata": {},
     "output_type": "execute_result"
    }
   ],
   "source": [
    "# describe column (which consist of numerical values)\n",
    "data.describe() "
   ]
  },
  {
   "cell_type": "code",
   "execution_count": 4,
   "id": "6ac64947",
   "metadata": {},
   "outputs": [
    {
     "name": "stdout",
     "output_type": "stream",
     "text": [
      "<class 'pandas.core.frame.DataFrame'>\n",
      "RangeIndex: 71689 entries, 0 to 71688\n",
      "Data columns (total 10 columns):\n",
      " #   Column                 Non-Null Count  Dtype  \n",
      "---  ------                 --------------  -----  \n",
      " 0   id                     71689 non-null  object \n",
      " 1   user_created_time      71689 non-null  object \n",
      " 2   user                   71689 non-null  object \n",
      " 3   user_description       62107 non-null  object \n",
      " 4   user_followers_count   71687 non-null  object \n",
      " 5   user_profile_location  51409 non-null  object \n",
      " 6   tweet_geo_loc          6 non-null      object \n",
      " 7   tweets                 71686 non-null  object \n",
      " 8   likes                  50480 non-null  float64\n",
      " 9   time                   50480 non-null  object \n",
      "dtypes: float64(1), object(9)\n",
      "memory usage: 5.5+ MB\n"
     ]
    }
   ],
   "source": [
    "# details of each column\n",
    "data.info() "
   ]
  },
  {
   "cell_type": "code",
   "execution_count": 5,
   "id": "27f80537",
   "metadata": {},
   "outputs": [
    {
     "data": {
      "text/plain": [
       "id                       23256\n",
       "user_created_time        23253\n",
       "user                     23256\n",
       "user_description         18089\n",
       "user_followers_count      5597\n",
       "user_profile_location     5883\n",
       "tweet_geo_loc                6\n",
       "tweets                   23318\n",
       "likes                      222\n",
       "time                     46688\n",
       "dtype: int64"
      ]
     },
     "execution_count": 5,
     "metadata": {},
     "output_type": "execute_result"
    }
   ],
   "source": [
    "# num of unique value\n",
    "data.nunique() "
   ]
  },
  {
   "cell_type": "code",
   "execution_count": 6,
   "id": "ab264349",
   "metadata": {},
   "outputs": [],
   "source": [
    "# replace null value\n",
    "data[\"user_description\"].fillna(\"NA\", inplace = True)\n",
    "data[\"user_profile_location\"].fillna(\"NA\", inplace = True)\n",
    "data[\"tweet_geo_loc\"].fillna(\"NA\", inplace = True)\n",
    "data[\"likes\"].fillna(-1, inplace = True)\n",
    "data[\"time\"].fillna(\"NA\", inplace = True)\n",
    "data['user_followers_count'].fillna(-1, inplace=True)"
   ]
  },
  {
   "cell_type": "code",
   "execution_count": 7,
   "id": "8240c80b",
   "metadata": {},
   "outputs": [
    {
     "name": "stdout",
     "output_type": "stream",
     "text": [
      "<class 'pandas.core.frame.DataFrame'>\n",
      "RangeIndex: 71689 entries, 0 to 71688\n",
      "Data columns (total 10 columns):\n",
      " #   Column                 Non-Null Count  Dtype  \n",
      "---  ------                 --------------  -----  \n",
      " 0   id                     71689 non-null  object \n",
      " 1   user_created_time      71689 non-null  object \n",
      " 2   user                   71689 non-null  object \n",
      " 3   user_description       71689 non-null  object \n",
      " 4   user_followers_count   71689 non-null  object \n",
      " 5   user_profile_location  71689 non-null  object \n",
      " 6   tweet_geo_loc          71689 non-null  object \n",
      " 7   tweets                 71686 non-null  object \n",
      " 8   likes                  71689 non-null  float64\n",
      " 9   time                   71689 non-null  object \n",
      "dtypes: float64(1), object(9)\n",
      "memory usage: 5.5+ MB\n"
     ]
    }
   ],
   "source": [
    "# details of the column after remove null value\n",
    "data.info() "
   ]
  },
  {
   "cell_type": "code",
   "execution_count": 8,
   "id": "cad086c3",
   "metadata": {},
   "outputs": [
    {
     "data": {
      "text/plain": [
       "array(['NA',\n",
       "       \"{'type': 'Point', 'coordinates': [1.59306977, 103.64740133]}\",\n",
       "       \"{'type': 'Point', 'coordinates': [2.94494932, 101.7246143]}\",\n",
       "       \"{'type': 'Point', 'coordinates': [3.16804444, 101.69160556]}\",\n",
       "       \"{'type': 'Point', 'coordinates': [3.1663406, 101.697536]}\",\n",
       "       \"{'type': 'Point', 'coordinates': [3.1588, 101.7105]}\",\n",
       "       '2022-05-13 17:14:04+00:00'], dtype=object)"
      ]
     },
     "execution_count": 8,
     "metadata": {},
     "output_type": "execute_result"
    }
   ],
   "source": [
    "# To see unique value for coordinate. Only contains 5 unique value exclude NA.\n",
    "data['tweet_geo_loc'].unique() "
   ]
  },
  {
   "cell_type": "markdown",
   "id": "aaf01ea8",
   "metadata": {},
   "source": [
    "### Convert all value in 'user_followers_count' as Integer"
   ]
  },
  {
   "cell_type": "code",
   "execution_count": 9,
   "id": "dddc92f2",
   "metadata": {},
   "outputs": [],
   "source": [
    "# Convert float into int (ignore string)\n",
    "data['user_followers_count'] = data['user_followers_count'].apply(lambda x: x if isinstance(x, str) else int(x))"
   ]
  },
  {
   "cell_type": "code",
   "execution_count": 10,
   "id": "b5f4f5a8",
   "metadata": {},
   "outputs": [
    {
     "data": {
      "text/plain": [
       "array(['376', '501', '489', ..., 965, 1677, 3158], dtype=object)"
      ]
     },
     "execution_count": 10,
     "metadata": {},
     "output_type": "execute_result"
    }
   ],
   "source": [
    "data['user_followers_count'].unique()"
   ]
  },
  {
   "cell_type": "code",
   "execution_count": 11,
   "id": "5d14f41d",
   "metadata": {
    "scrolled": true
   },
   "outputs": [],
   "source": [
    "# Convert String into integer\n",
    "follower_count = []\n",
    "len_count = []\n",
    "for i, row in data.iterrows():\n",
    "    #print(row['user_followers_count'])\n",
    "    \n",
    "    try:\n",
    "        if isinstance(row['user_followers_count'],int): follower_count.append(row['user_followers_count'])\n",
    "        elif len(row['user_followers_count'])<14: follower_count.append(int(row['user_followers_count']))\n",
    "        elif len(row['user_followers_count'])>=14: follower_count.append(-2)\n",
    "        else: follower_count.append(row['user_followers_count'])\n",
    "        \n",
    "    except: \n",
    "        if (row['user_followers_count']).isnumeric(): follower_count.append(int(row['user_followers_count']))\n",
    "        else: follower_count.append(-2)\n",
    "    \n",
    "        "
   ]
  },
  {
   "cell_type": "code",
   "execution_count": 12,
   "id": "2de6ef82",
   "metadata": {},
   "outputs": [
    {
     "data": {
      "text/plain": [
       "71689"
      ]
     },
     "execution_count": 12,
     "metadata": {},
     "output_type": "execute_result"
    }
   ],
   "source": [
    "len(follower_count)"
   ]
  },
  {
   "cell_type": "code",
   "execution_count": 13,
   "id": "3c3701b7",
   "metadata": {},
   "outputs": [
    {
     "data": {
      "text/plain": [
       "'Acaba de publicar una foto en PKR Medellín https://t.co/g3Zz2rjyqV'"
      ]
     },
     "execution_count": 13,
     "metadata": {},
     "output_type": "execute_result"
    }
   ],
   "source": [
    "data['user_followers_count'][43640]"
   ]
  },
  {
   "cell_type": "code",
   "execution_count": 14,
   "id": "192f1529",
   "metadata": {},
   "outputs": [
    {
     "data": {
      "text/plain": [
       "-2"
      ]
     },
     "execution_count": 14,
     "metadata": {},
     "output_type": "execute_result"
    }
   ],
   "source": [
    "follower_count[43640]"
   ]
  },
  {
   "cell_type": "code",
   "execution_count": 15,
   "id": "ba7f754c",
   "metadata": {},
   "outputs": [],
   "source": [
    "data['updated_followers_count']=follower_count"
   ]
  },
  {
   "cell_type": "code",
   "execution_count": 16,
   "id": "1a28bfc8",
   "metadata": {
    "scrolled": true
   },
   "outputs": [
    {
     "data": {
      "text/html": [
       "<div>\n",
       "<style scoped>\n",
       "    .dataframe tbody tr th:only-of-type {\n",
       "        vertical-align: middle;\n",
       "    }\n",
       "\n",
       "    .dataframe tbody tr th {\n",
       "        vertical-align: top;\n",
       "    }\n",
       "\n",
       "    .dataframe thead th {\n",
       "        text-align: right;\n",
       "    }\n",
       "</style>\n",
       "<table border=\"1\" class=\"dataframe\">\n",
       "  <thead>\n",
       "    <tr style=\"text-align: right;\">\n",
       "      <th></th>\n",
       "      <th>id</th>\n",
       "      <th>user_created_time</th>\n",
       "      <th>user</th>\n",
       "      <th>user_description</th>\n",
       "      <th>user_followers_count</th>\n",
       "      <th>user_profile_location</th>\n",
       "      <th>tweet_geo_loc</th>\n",
       "      <th>tweets</th>\n",
       "      <th>likes</th>\n",
       "      <th>time</th>\n",
       "      <th>updated_followers_count</th>\n",
       "    </tr>\n",
       "  </thead>\n",
       "  <tbody>\n",
       "    <tr>\n",
       "      <th>0</th>\n",
       "      <td>321255263</td>\n",
       "      <td>Tue Jun 21 08:15:13 +0000 2011</td>\n",
       "      <td>adamchairy</td>\n",
       "      <td>| Cat | Ride | Drive | its not over until i win</td>\n",
       "      <td>376</td>\n",
       "      <td>The Bos Gaurus</td>\n",
       "      <td>NA</td>\n",
       "      <td>RT @fadzmel: Tiba-tiba dah jadi veteran UMNO? ...</td>\n",
       "      <td>0.0</td>\n",
       "      <td>2022-05-20 15:58:43+00:00</td>\n",
       "      <td>376</td>\n",
       "    </tr>\n",
       "    <tr>\n",
       "      <th>1</th>\n",
       "      <td>217651297</td>\n",
       "      <td>Sat Nov 20 03:24:59 +0000 2010</td>\n",
       "      <td>ajambenuden</td>\n",
       "      <td>Penjahat Skateboards #YNWA #gengjahat</td>\n",
       "      <td>501</td>\n",
       "      <td>Keramat Smart</td>\n",
       "      <td>NA</td>\n",
       "      <td>RT @BadBoy2662: Parti UMNO sah parti babi. Ker...</td>\n",
       "      <td>0.0</td>\n",
       "      <td>2022-05-20 15:58:17+00:00</td>\n",
       "      <td>501</td>\n",
       "    </tr>\n",
       "    <tr>\n",
       "      <th>2</th>\n",
       "      <td>19079731</td>\n",
       "      <td>Fri Jan 16 18:50:11 +0000 2009</td>\n",
       "      <td>chicarosa</td>\n",
       "      <td>A broken dreamer trying to find her place in s...</td>\n",
       "      <td>489</td>\n",
       "      <td>Kuala Lumpur, Malaysia</td>\n",
       "      <td>NA</td>\n",
       "      <td>RT @esKahn: I assure you, Ultra Kirana isn't t...</td>\n",
       "      <td>0.0</td>\n",
       "      <td>2022-05-20 15:57:55+00:00</td>\n",
       "      <td>489</td>\n",
       "    </tr>\n",
       "    <tr>\n",
       "      <th>3</th>\n",
       "      <td>953619050</td>\n",
       "      <td>Sat Nov 17 13:54:06 +0000 2012</td>\n",
       "      <td>lunadellana</td>\n",
       "      <td>NA</td>\n",
       "      <td>1063</td>\n",
       "      <td>NA</td>\n",
       "      <td>NA</td>\n",
       "      <td>RT @BadBoy2662: Babi tak babi laa Presiden UMN...</td>\n",
       "      <td>0.0</td>\n",
       "      <td>2022-05-20 15:55:21+00:00</td>\n",
       "      <td>1063</td>\n",
       "    </tr>\n",
       "    <tr>\n",
       "      <th>4</th>\n",
       "      <td>1600369057</td>\n",
       "      <td>Wed Jul 17 07:23:02 +0000 2013</td>\n",
       "      <td>MalaysiaGazette</td>\n",
       "      <td>Malaysian Mind Sprouting News Portal</td>\n",
       "      <td>126518</td>\n",
       "      <td>Kuala Lumpur</td>\n",
       "      <td>NA</td>\n",
       "      <td>UMNO dan Pas perlu cari kata putus #malaysiaga...</td>\n",
       "      <td>0.0</td>\n",
       "      <td>2022-05-20 15:55:13+00:00</td>\n",
       "      <td>126518</td>\n",
       "    </tr>\n",
       "    <tr>\n",
       "      <th>...</th>\n",
       "      <td>...</td>\n",
       "      <td>...</td>\n",
       "      <td>...</td>\n",
       "      <td>...</td>\n",
       "      <td>...</td>\n",
       "      <td>...</td>\n",
       "      <td>...</td>\n",
       "      <td>...</td>\n",
       "      <td>...</td>\n",
       "      <td>...</td>\n",
       "      <td>...</td>\n",
       "    </tr>\n",
       "    <tr>\n",
       "      <th>71684</th>\n",
       "      <td>832358882</td>\n",
       "      <td>Wed Sep 19 02:22:13 +0000 2012</td>\n",
       "      <td>KucinSuzzy</td>\n",
       "      <td>NA</td>\n",
       "      <td>139</td>\n",
       "      <td>NA</td>\n",
       "      <td>NA</td>\n",
       "      <td>RT @hakarim_51: https://t.co/27vo0P5dOZ</td>\n",
       "      <td>0.0</td>\n",
       "      <td>2022-05-12 08:16:49+00:00</td>\n",
       "      <td>139</td>\n",
       "    </tr>\n",
       "    <tr>\n",
       "      <th>71685</th>\n",
       "      <td>784631839717744644</td>\n",
       "      <td>Sat Oct 08 05:49:43 +0000 2016</td>\n",
       "      <td>chshoaibmunir1</td>\n",
       "      <td>A student and well wisher of Nation</td>\n",
       "      <td>268</td>\n",
       "      <td>NA</td>\n",
       "      <td>NA</td>\n",
       "      <td>RT @RealYasir__Khan: Due to money laundering o...</td>\n",
       "      <td>0.0</td>\n",
       "      <td>2022-05-12 08:15:06+00:00</td>\n",
       "      <td>268</td>\n",
       "    </tr>\n",
       "    <tr>\n",
       "      <th>71686</th>\n",
       "      <td>784631839717744644</td>\n",
       "      <td>Sat Oct 08 05:49:43 +0000 2016</td>\n",
       "      <td>chshoaibmunir1</td>\n",
       "      <td>A student and well wisher of Nation</td>\n",
       "      <td>268</td>\n",
       "      <td>NA</td>\n",
       "      <td>NA</td>\n",
       "      <td>RT @RealYasir__Khan: None can beat Pmln in inc...</td>\n",
       "      <td>0.0</td>\n",
       "      <td>2022-05-12 08:13:55+00:00</td>\n",
       "      <td>268</td>\n",
       "    </tr>\n",
       "    <tr>\n",
       "      <th>71687</th>\n",
       "      <td>217651297</td>\n",
       "      <td>Sat Nov 20 03:24:59 +0000 2010</td>\n",
       "      <td>ajambenuden</td>\n",
       "      <td>Penjahat Skateboards #YNWA #gengjahat</td>\n",
       "      <td>501</td>\n",
       "      <td>Keramat Smart</td>\n",
       "      <td>NA</td>\n",
       "      <td>RT @KartunisGandum: Abang cadangkan PKR buat d...</td>\n",
       "      <td>0.0</td>\n",
       "      <td>2022-05-12 08:13:43+00:00</td>\n",
       "      <td>501</td>\n",
       "    </tr>\n",
       "    <tr>\n",
       "      <th>71688</th>\n",
       "      <td>228057523</td>\n",
       "      <td>Sat Dec 18 15:57:55 +0000 2010</td>\n",
       "      <td>MaisarraAnuar</td>\n",
       "      <td>CEO Pertubuhan anak yatim &amp; ibu tunggal (SRC I...</td>\n",
       "      <td>3158</td>\n",
       "      <td>Malaysia</td>\n",
       "      <td>NA</td>\n",
       "      <td>RT @MenteriBesarNS: Menyertai Jelajah Yakini R...</td>\n",
       "      <td>0.0</td>\n",
       "      <td>2022-05-12 08:09:45+00:00</td>\n",
       "      <td>3158</td>\n",
       "    </tr>\n",
       "  </tbody>\n",
       "</table>\n",
       "<p>71689 rows × 11 columns</p>\n",
       "</div>"
      ],
      "text/plain": [
       "                       id               user_created_time             user   \n",
       "0               321255263  Tue Jun 21 08:15:13 +0000 2011       adamchairy  \\\n",
       "1               217651297  Sat Nov 20 03:24:59 +0000 2010      ajambenuden   \n",
       "2                19079731  Fri Jan 16 18:50:11 +0000 2009        chicarosa   \n",
       "3               953619050  Sat Nov 17 13:54:06 +0000 2012      lunadellana   \n",
       "4              1600369057  Wed Jul 17 07:23:02 +0000 2013  MalaysiaGazette   \n",
       "...                   ...                             ...              ...   \n",
       "71684           832358882  Wed Sep 19 02:22:13 +0000 2012       KucinSuzzy   \n",
       "71685  784631839717744644  Sat Oct 08 05:49:43 +0000 2016   chshoaibmunir1   \n",
       "71686  784631839717744644  Sat Oct 08 05:49:43 +0000 2016   chshoaibmunir1   \n",
       "71687           217651297  Sat Nov 20 03:24:59 +0000 2010      ajambenuden   \n",
       "71688           228057523  Sat Dec 18 15:57:55 +0000 2010    MaisarraAnuar   \n",
       "\n",
       "                                        user_description user_followers_count   \n",
       "0        | Cat | Ride | Drive | its not over until i win                  376  \\\n",
       "1                  Penjahat Skateboards #YNWA #gengjahat                  501   \n",
       "2      A broken dreamer trying to find her place in s...                  489   \n",
       "3                                                     NA                 1063   \n",
       "4                   Malaysian Mind Sprouting News Portal               126518   \n",
       "...                                                  ...                  ...   \n",
       "71684                                                 NA                  139   \n",
       "71685                A student and well wisher of Nation                  268   \n",
       "71686                A student and well wisher of Nation                  268   \n",
       "71687              Penjahat Skateboards #YNWA #gengjahat                  501   \n",
       "71688  CEO Pertubuhan anak yatim & ibu tunggal (SRC I...                 3158   \n",
       "\n",
       "        user_profile_location tweet_geo_loc   \n",
       "0             The Bos Gaurus             NA  \\\n",
       "1              Keramat Smart             NA   \n",
       "2      Kuala Lumpur, Malaysia            NA   \n",
       "3                          NA            NA   \n",
       "4                Kuala Lumpur            NA   \n",
       "...                       ...           ...   \n",
       "71684                      NA            NA   \n",
       "71685                      NA            NA   \n",
       "71686                      NA            NA   \n",
       "71687          Keramat Smart             NA   \n",
       "71688                Malaysia            NA   \n",
       "\n",
       "                                                  tweets  likes   \n",
       "0      RT @fadzmel: Tiba-tiba dah jadi veteran UMNO? ...    0.0  \\\n",
       "1      RT @BadBoy2662: Parti UMNO sah parti babi. Ker...    0.0   \n",
       "2      RT @esKahn: I assure you, Ultra Kirana isn't t...    0.0   \n",
       "3      RT @BadBoy2662: Babi tak babi laa Presiden UMN...    0.0   \n",
       "4      UMNO dan Pas perlu cari kata putus #malaysiaga...    0.0   \n",
       "...                                                  ...    ...   \n",
       "71684            RT @hakarim_51: https://t.co/27vo0P5dOZ    0.0   \n",
       "71685  RT @RealYasir__Khan: Due to money laundering o...    0.0   \n",
       "71686  RT @RealYasir__Khan: None can beat Pmln in inc...    0.0   \n",
       "71687  RT @KartunisGandum: Abang cadangkan PKR buat d...    0.0   \n",
       "71688  RT @MenteriBesarNS: Menyertai Jelajah Yakini R...    0.0   \n",
       "\n",
       "                            time  updated_followers_count  \n",
       "0      2022-05-20 15:58:43+00:00                      376  \n",
       "1      2022-05-20 15:58:17+00:00                      501  \n",
       "2      2022-05-20 15:57:55+00:00                      489  \n",
       "3      2022-05-20 15:55:21+00:00                     1063  \n",
       "4      2022-05-20 15:55:13+00:00                   126518  \n",
       "...                          ...                      ...  \n",
       "71684  2022-05-12 08:16:49+00:00                      139  \n",
       "71685  2022-05-12 08:15:06+00:00                      268  \n",
       "71686  2022-05-12 08:13:55+00:00                      268  \n",
       "71687  2022-05-12 08:13:43+00:00                      501  \n",
       "71688  2022-05-12 08:09:45+00:00                     3158  \n",
       "\n",
       "[71689 rows x 11 columns]"
      ]
     },
     "execution_count": 16,
     "metadata": {},
     "output_type": "execute_result"
    }
   ],
   "source": [
    "data"
   ]
  },
  {
   "cell_type": "code",
   "execution_count": 17,
   "id": "dbd809b9",
   "metadata": {},
   "outputs": [
    {
     "data": {
      "text/html": [
       "<div>\n",
       "<style scoped>\n",
       "    .dataframe tbody tr th:only-of-type {\n",
       "        vertical-align: middle;\n",
       "    }\n",
       "\n",
       "    .dataframe tbody tr th {\n",
       "        vertical-align: top;\n",
       "    }\n",
       "\n",
       "    .dataframe thead th {\n",
       "        text-align: right;\n",
       "    }\n",
       "</style>\n",
       "<table border=\"1\" class=\"dataframe\">\n",
       "  <thead>\n",
       "    <tr style=\"text-align: right;\">\n",
       "      <th></th>\n",
       "      <th>likes</th>\n",
       "      <th>updated_followers_count</th>\n",
       "    </tr>\n",
       "  </thead>\n",
       "  <tbody>\n",
       "    <tr>\n",
       "      <th>count</th>\n",
       "      <td>71689.000000</td>\n",
       "      <td>7.168900e+04</td>\n",
       "    </tr>\n",
       "    <tr>\n",
       "      <th>mean</th>\n",
       "      <td>1.581024</td>\n",
       "      <td>8.834197e+03</td>\n",
       "    </tr>\n",
       "    <tr>\n",
       "      <th>std</th>\n",
       "      <td>49.877895</td>\n",
       "      <td>1.287684e+05</td>\n",
       "    </tr>\n",
       "    <tr>\n",
       "      <th>min</th>\n",
       "      <td>-1.000000</td>\n",
       "      <td>-2.000000e+00</td>\n",
       "    </tr>\n",
       "    <tr>\n",
       "      <th>25%</th>\n",
       "      <td>-1.000000</td>\n",
       "      <td>4.400000e+01</td>\n",
       "    </tr>\n",
       "    <tr>\n",
       "      <th>50%</th>\n",
       "      <td>0.000000</td>\n",
       "      <td>9.000000e+01</td>\n",
       "    </tr>\n",
       "    <tr>\n",
       "      <th>75%</th>\n",
       "      <td>0.000000</td>\n",
       "      <td>4.970000e+02</td>\n",
       "    </tr>\n",
       "    <tr>\n",
       "      <th>max</th>\n",
       "      <td>6021.000000</td>\n",
       "      <td>1.708286e+07</td>\n",
       "    </tr>\n",
       "  </tbody>\n",
       "</table>\n",
       "</div>"
      ],
      "text/plain": [
       "              likes  updated_followers_count\n",
       "count  71689.000000             7.168900e+04\n",
       "mean       1.581024             8.834197e+03\n",
       "std       49.877895             1.287684e+05\n",
       "min       -1.000000            -2.000000e+00\n",
       "25%       -1.000000             4.400000e+01\n",
       "50%        0.000000             9.000000e+01\n",
       "75%        0.000000             4.970000e+02\n",
       "max     6021.000000             1.708286e+07"
      ]
     },
     "execution_count": 17,
     "metadata": {},
     "output_type": "execute_result"
    }
   ],
   "source": [
    "data.describe()"
   ]
  },
  {
   "cell_type": "code",
   "execution_count": 18,
   "id": "10ac0d2c",
   "metadata": {},
   "outputs": [
    {
     "name": "stdout",
     "output_type": "stream",
     "text": [
      "<class 'pandas.core.frame.DataFrame'>\n",
      "RangeIndex: 71689 entries, 0 to 71688\n",
      "Data columns (total 11 columns):\n",
      " #   Column                   Non-Null Count  Dtype  \n",
      "---  ------                   --------------  -----  \n",
      " 0   id                       71689 non-null  object \n",
      " 1   user_created_time        71689 non-null  object \n",
      " 2   user                     71689 non-null  object \n",
      " 3   user_description         71689 non-null  object \n",
      " 4   user_followers_count     71689 non-null  object \n",
      " 5   user_profile_location    71689 non-null  object \n",
      " 6   tweet_geo_loc            71689 non-null  object \n",
      " 7   tweets                   71686 non-null  object \n",
      " 8   likes                    71689 non-null  float64\n",
      " 9   time                     71689 non-null  object \n",
      " 10  updated_followers_count  71689 non-null  int64  \n",
      "dtypes: float64(1), int64(1), object(9)\n",
      "memory usage: 6.0+ MB\n"
     ]
    }
   ],
   "source": [
    " data.info()"
   ]
  },
  {
   "cell_type": "markdown",
   "id": "fe613f28",
   "metadata": {},
   "source": [
    "### Make sure not have negative value in this followers column."
   ]
  },
  {
   "cell_type": "code",
   "execution_count": 19,
   "id": "b6b52ad1",
   "metadata": {},
   "outputs": [
    {
     "data": {
      "text/plain": [
       "(71689, 11)"
      ]
     },
     "execution_count": 19,
     "metadata": {},
     "output_type": "execute_result"
    }
   ],
   "source": [
    "data.shape"
   ]
  },
  {
   "cell_type": "code",
   "execution_count": 20,
   "id": "b43bfd8e",
   "metadata": {},
   "outputs": [
    {
     "data": {
      "text/plain": [
       "(71686, 11)"
      ]
     },
     "execution_count": 20,
     "metadata": {},
     "output_type": "execute_result"
    }
   ],
   "source": [
    "data= data[data['updated_followers_count']>=0]\n",
    "data.shape"
   ]
  },
  {
   "cell_type": "markdown",
   "id": "141ea0e3",
   "metadata": {},
   "source": [
    "### Show MAX, MIN, MEAN"
   ]
  },
  {
   "cell_type": "code",
   "execution_count": 21,
   "id": "28d88033",
   "metadata": {},
   "outputs": [
    {
     "data": {
      "text/plain": [
       "17082859"
      ]
     },
     "execution_count": 21,
     "metadata": {},
     "output_type": "execute_result"
    }
   ],
   "source": [
    "max(data['updated_followers_count'])\n",
    "# 17,082,859 = 17M"
   ]
  },
  {
   "cell_type": "code",
   "execution_count": 22,
   "id": "39735a5d",
   "metadata": {},
   "outputs": [
    {
     "data": {
      "text/plain": [
       "0"
      ]
     },
     "execution_count": 22,
     "metadata": {},
     "output_type": "execute_result"
    }
   ],
   "source": [
    "min(data['updated_followers_count'])"
   ]
  },
  {
   "cell_type": "code",
   "execution_count": 23,
   "id": "bc9dbd6e",
   "metadata": {},
   "outputs": [
    {
     "data": {
      "text/plain": [
       "8834.566944731188"
      ]
     },
     "execution_count": 23,
     "metadata": {},
     "output_type": "execute_result"
    }
   ],
   "source": [
    "import statistics\n",
    "statistics.mean(data['updated_followers_count'])"
   ]
  },
  {
   "cell_type": "markdown",
   "id": "0c60163b",
   "metadata": {},
   "source": [
    "### Display influncers' tweets (assume above Mean is influncer)"
   ]
  },
  {
   "cell_type": "code",
   "execution_count": 24,
   "id": "73c82d1a",
   "metadata": {},
   "outputs": [
    {
     "data": {
      "text/plain": [
       "(2388, 11)"
      ]
     },
     "execution_count": 24,
     "metadata": {},
     "output_type": "execute_result"
    }
   ],
   "source": [
    "data_aboveMean = data[data['updated_followers_count']>=8835]\n",
    "data_aboveMean.shape"
   ]
  },
  {
   "cell_type": "code",
   "execution_count": 25,
   "id": "f14266d3",
   "metadata": {
    "scrolled": true
   },
   "outputs": [
    {
     "data": {
      "text/html": [
       "<div>\n",
       "<style scoped>\n",
       "    .dataframe tbody tr th:only-of-type {\n",
       "        vertical-align: middle;\n",
       "    }\n",
       "\n",
       "    .dataframe tbody tr th {\n",
       "        vertical-align: top;\n",
       "    }\n",
       "\n",
       "    .dataframe thead th {\n",
       "        text-align: right;\n",
       "    }\n",
       "</style>\n",
       "<table border=\"1\" class=\"dataframe\">\n",
       "  <thead>\n",
       "    <tr style=\"text-align: right;\">\n",
       "      <th></th>\n",
       "      <th>id</th>\n",
       "      <th>user_created_time</th>\n",
       "      <th>user</th>\n",
       "      <th>user_description</th>\n",
       "      <th>user_followers_count</th>\n",
       "      <th>user_profile_location</th>\n",
       "      <th>tweet_geo_loc</th>\n",
       "      <th>tweets</th>\n",
       "      <th>likes</th>\n",
       "      <th>time</th>\n",
       "    </tr>\n",
       "    <tr>\n",
       "      <th>updated_followers_count</th>\n",
       "      <th></th>\n",
       "      <th></th>\n",
       "      <th></th>\n",
       "      <th></th>\n",
       "      <th></th>\n",
       "      <th></th>\n",
       "      <th></th>\n",
       "      <th></th>\n",
       "      <th></th>\n",
       "      <th></th>\n",
       "    </tr>\n",
       "  </thead>\n",
       "  <tbody>\n",
       "    <tr>\n",
       "      <th>8844</th>\n",
       "      <td>505836297</td>\n",
       "      <td>Mon Feb 27 13:11:02 +0000 2012</td>\n",
       "      <td>LahoriElite</td>\n",
       "      <td>When the naysayers 'nay' I picked up my pace. ...</td>\n",
       "      <td>8844</td>\n",
       "      <td>Milan - Minsk</td>\n",
       "      <td>NA</td>\n",
       "      <td>You people might be royally fucked, but at lea...</td>\n",
       "      <td>13.0</td>\n",
       "      <td>2022-05-19 08:10:44+00:00</td>\n",
       "    </tr>\n",
       "    <tr>\n",
       "      <th>8848</th>\n",
       "      <td>47298848</td>\n",
       "      <td>Mon Jun 15 09:29:25 +0000 2009</td>\n",
       "      <td>eddydaud</td>\n",
       "      <td>'What you know, you must know very well' - Edd...</td>\n",
       "      <td>8848</td>\n",
       "      <td>ÜT: 1.50225,103.742992</td>\n",
       "      <td>NA</td>\n",
       "      <td>RT @dririshsea: Malaysia appoints UMNO politic...</td>\n",
       "      <td>0.0</td>\n",
       "      <td>2022-05-18 12:42:07+00:00</td>\n",
       "    </tr>\n",
       "    <tr>\n",
       "      <th>8852</th>\n",
       "      <td>923237703310856192</td>\n",
       "      <td>Wed Oct 25 17:19:56 +0000 2017</td>\n",
       "      <td>ButtZuhran</td>\n",
       "      <td>NA</td>\n",
       "      <td>8852</td>\n",
       "      <td>FaisalabAd</td>\n",
       "      <td>NA</td>\n",
       "      <td>RT @geonews_urdu: ڈالر کی قیمت میں اضافہ عمران...</td>\n",
       "      <td>0.0</td>\n",
       "      <td>2022-05-13 15:42:29+00:00</td>\n",
       "    </tr>\n",
       "    <tr>\n",
       "      <th>8861</th>\n",
       "      <td>4089478893</td>\n",
       "      <td>Sun Nov 01 11:31:49 +0000 2015</td>\n",
       "      <td>hanif_dawar</td>\n",
       "      <td>Proud 🇵🇰 ||IK || PTI || Social media activist ...</td>\n",
       "      <td>8861</td>\n",
       "      <td>شمالی وزیرستان 🇵🇰</td>\n",
       "      <td>NA</td>\n",
       "      <td>RT @HassShad: Unofficial reports: USD being tr...</td>\n",
       "      <td>0.0</td>\n",
       "      <td>2022-05-13 20:41:08+00:00</td>\n",
       "    </tr>\n",
       "    <tr>\n",
       "      <th>8862</th>\n",
       "      <td>1017840191531290625</td>\n",
       "      <td>Fri Jul 13 18:36:27 +0000 2018</td>\n",
       "      <td>WaheedP_MLN</td>\n",
       "      <td>A Patriotic Pakistani( Member Of PMLN- SMT RYK...</td>\n",
       "      <td>8862</td>\n",
       "      <td>عشق محلہ 💞</td>\n",
       "      <td>NA</td>\n",
       "      <td>RT @geonews_urdu: ڈالر کی قیمت میں اضافہ عمران...</td>\n",
       "      <td>0.0</td>\n",
       "      <td>2022-05-13 14:18:53+00:00</td>\n",
       "    </tr>\n",
       "    <tr>\n",
       "      <th>...</th>\n",
       "      <td>...</td>\n",
       "      <td>...</td>\n",
       "      <td>...</td>\n",
       "      <td>...</td>\n",
       "      <td>...</td>\n",
       "      <td>...</td>\n",
       "      <td>...</td>\n",
       "      <td>...</td>\n",
       "      <td>...</td>\n",
       "      <td>...</td>\n",
       "    </tr>\n",
       "    <tr>\n",
       "      <th>4424450</th>\n",
       "      <td>165796189</td>\n",
       "      <td>Mon Jul 12 15:24:32 +0000 2010</td>\n",
       "      <td>geonews_urdu</td>\n",
       "      <td>Geo is Pakistan's No. 1 TV Channel catering la...</td>\n",
       "      <td>4424450</td>\n",
       "      <td>Pakistan</td>\n",
       "      <td>NA</td>\n",
       "      <td>ڈالر کی قیمت میں اضافہ عمران خان کے آئی ایم ای...</td>\n",
       "      <td>2995.0</td>\n",
       "      <td>2022-05-13 12:15:20+00:00</td>\n",
       "    </tr>\n",
       "    <tr>\n",
       "      <th>6048295</th>\n",
       "      <td>19897138</td>\n",
       "      <td>Mon Feb 02 07:21:54 +0000 2009</td>\n",
       "      <td>IndiaToday</td>\n",
       "      <td>Brings you news breaks: Exclusive political, e...</td>\n",
       "      <td>6048295</td>\n",
       "      <td>India</td>\n",
       "      <td>NA</td>\n",
       "      <td>Pakistani rupee hits historic low of 200 again...</td>\n",
       "      <td>21.0</td>\n",
       "      <td>2022-05-19 05:33:07+00:00</td>\n",
       "    </tr>\n",
       "    <tr>\n",
       "      <th>6774939</th>\n",
       "      <td>127483019</td>\n",
       "      <td>Mon Mar 29 10:24:45 +0000 2010</td>\n",
       "      <td>PTIofficial</td>\n",
       "      <td>Official twitter account of Pakistan Tehreek-e...</td>\n",
       "      <td>6774939</td>\n",
       "      <td>Pakistan</td>\n",
       "      <td>NA</td>\n",
       "      <td>PKR has been in a freefall since the Imrported...</td>\n",
       "      <td>586.0</td>\n",
       "      <td>2022-05-19 10:44:27+00:00</td>\n",
       "    </tr>\n",
       "    <tr>\n",
       "      <th>7206870</th>\n",
       "      <td>453507741</td>\n",
       "      <td>Tue Jan 03 00:31:42 +0000 2012</td>\n",
       "      <td>MaryamNSharif</td>\n",
       "      <td>We cloak our cowardice with the ill-fitting ga...</td>\n",
       "      <td>7206870</td>\n",
       "      <td>Islamabad, Pakistan</td>\n",
       "      <td>NA</td>\n",
       "      <td>RT @geonews_urdu: ڈالر کی قیمت میں اضافہ عمران...</td>\n",
       "      <td>0.0</td>\n",
       "      <td>2022-05-13 13:47:26+00:00</td>\n",
       "    </tr>\n",
       "    <tr>\n",
       "      <th>17082859</th>\n",
       "      <td>37034483</td>\n",
       "      <td>Fri May 01 20:34:48 +0000 2009</td>\n",
       "      <td>ndtv</td>\n",
       "      <td>Breaking news alerts from India.\\n\\nInstagram:...</td>\n",
       "      <td>17082859</td>\n",
       "      <td>India</td>\n",
       "      <td>NA</td>\n",
       "      <td>RT @CricketNDTV: The Pakistan Cricket Board ha...</td>\n",
       "      <td>0.0</td>\n",
       "      <td>2022-05-14 12:13:24+00:00</td>\n",
       "    </tr>\n",
       "  </tbody>\n",
       "</table>\n",
       "<p>885 rows × 10 columns</p>\n",
       "</div>"
      ],
      "text/plain": [
       "                                          id               user_created_time   \n",
       "updated_followers_count                                                        \n",
       "8844                               505836297  Mon Feb 27 13:11:02 +0000 2012  \\\n",
       "8848                                47298848  Mon Jun 15 09:29:25 +0000 2009   \n",
       "8852                      923237703310856192  Wed Oct 25 17:19:56 +0000 2017   \n",
       "8861                              4089478893  Sun Nov 01 11:31:49 +0000 2015   \n",
       "8862                     1017840191531290625  Fri Jul 13 18:36:27 +0000 2018   \n",
       "...                                      ...                             ...   \n",
       "4424450                            165796189  Mon Jul 12 15:24:32 +0000 2010   \n",
       "6048295                             19897138  Mon Feb 02 07:21:54 +0000 2009   \n",
       "6774939                            127483019  Mon Mar 29 10:24:45 +0000 2010   \n",
       "7206870                            453507741  Tue Jan 03 00:31:42 +0000 2012   \n",
       "17082859                            37034483  Fri May 01 20:34:48 +0000 2009   \n",
       "\n",
       "                                  user   \n",
       "updated_followers_count                  \n",
       "8844                       LahoriElite  \\\n",
       "8848                          eddydaud   \n",
       "8852                        ButtZuhran   \n",
       "8861                       hanif_dawar   \n",
       "8862                       WaheedP_MLN   \n",
       "...                                ...   \n",
       "4424450                   geonews_urdu   \n",
       "6048295                     IndiaToday   \n",
       "6774939                    PTIofficial   \n",
       "7206870                  MaryamNSharif   \n",
       "17082859                          ndtv   \n",
       "\n",
       "                                                          user_description   \n",
       "updated_followers_count                                                      \n",
       "8844                     When the naysayers 'nay' I picked up my pace. ...  \\\n",
       "8848                     'What you know, you must know very well' - Edd...   \n",
       "8852                                                                    NA   \n",
       "8861                     Proud 🇵🇰 ||IK || PTI || Social media activist ...   \n",
       "8862                     A Patriotic Pakistani( Member Of PMLN- SMT RYK...   \n",
       "...                                                                    ...   \n",
       "4424450                  Geo is Pakistan's No. 1 TV Channel catering la...   \n",
       "6048295                  Brings you news breaks: Exclusive political, e...   \n",
       "6774939                  Official twitter account of Pakistan Tehreek-e...   \n",
       "7206870                  We cloak our cowardice with the ill-fitting ga...   \n",
       "17082859                 Breaking news alerts from India.\\n\\nInstagram:...   \n",
       "\n",
       "                        user_followers_count   user_profile_location   \n",
       "updated_followers_count                                                \n",
       "8844                                    8844           Milan - Minsk  \\\n",
       "8848                                    8848  ÜT: 1.50225,103.742992   \n",
       "8852                                    8852              FaisalabAd   \n",
       "8861                                    8861       شمالی وزیرستان 🇵🇰   \n",
       "8862                                    8862              عشق محلہ 💞   \n",
       "...                                      ...                     ...   \n",
       "4424450                              4424450                Pakistan   \n",
       "6048295                              6048295                   India   \n",
       "6774939                              6774939                Pakistan   \n",
       "7206870                              7206870     Islamabad, Pakistan   \n",
       "17082859                            17082859                   India   \n",
       "\n",
       "                        tweet_geo_loc   \n",
       "updated_followers_count                 \n",
       "8844                               NA  \\\n",
       "8848                               NA   \n",
       "8852                               NA   \n",
       "8861                               NA   \n",
       "8862                               NA   \n",
       "...                               ...   \n",
       "4424450                            NA   \n",
       "6048295                            NA   \n",
       "6774939                            NA   \n",
       "7206870                            NA   \n",
       "17082859                           NA   \n",
       "\n",
       "                                                                    tweets   \n",
       "updated_followers_count                                                      \n",
       "8844                     You people might be royally fucked, but at lea...  \\\n",
       "8848                     RT @dririshsea: Malaysia appoints UMNO politic...   \n",
       "8852                     RT @geonews_urdu: ڈالر کی قیمت میں اضافہ عمران...   \n",
       "8861                     RT @HassShad: Unofficial reports: USD being tr...   \n",
       "8862                     RT @geonews_urdu: ڈالر کی قیمت میں اضافہ عمران...   \n",
       "...                                                                    ...   \n",
       "4424450                  ڈالر کی قیمت میں اضافہ عمران خان کے آئی ایم ای...   \n",
       "6048295                  Pakistani rupee hits historic low of 200 again...   \n",
       "6774939                  PKR has been in a freefall since the Imrported...   \n",
       "7206870                  RT @geonews_urdu: ڈالر کی قیمت میں اضافہ عمران...   \n",
       "17082859                 RT @CricketNDTV: The Pakistan Cricket Board ha...   \n",
       "\n",
       "                          likes                       time  \n",
       "updated_followers_count                                     \n",
       "8844                       13.0  2022-05-19 08:10:44+00:00  \n",
       "8848                        0.0  2022-05-18 12:42:07+00:00  \n",
       "8852                        0.0  2022-05-13 15:42:29+00:00  \n",
       "8861                        0.0  2022-05-13 20:41:08+00:00  \n",
       "8862                        0.0  2022-05-13 14:18:53+00:00  \n",
       "...                         ...                        ...  \n",
       "4424450                  2995.0  2022-05-13 12:15:20+00:00  \n",
       "6048295                    21.0  2022-05-19 05:33:07+00:00  \n",
       "6774939                   586.0  2022-05-19 10:44:27+00:00  \n",
       "7206870                     0.0  2022-05-13 13:47:26+00:00  \n",
       "17082859                    0.0  2022-05-14 12:13:24+00:00  \n",
       "\n",
       "[885 rows x 10 columns]"
      ]
     },
     "execution_count": 25,
     "metadata": {},
     "output_type": "execute_result"
    }
   ],
   "source": [
    "data_gb_follower = data_aboveMean.groupby('updated_followers_count')\n",
    "data_gb_follower.first() # print first value for each group"
   ]
  },
  {
   "cell_type": "code",
   "execution_count": 31,
   "id": "db986c79",
   "metadata": {},
   "outputs": [
    {
     "data": {
      "text/plain": [
       "array(['PKR has been in a freefall since the Imrported Government was imposed on us. Today, the 200 mark has been crossed.… https://t.co/IDG2kPMrtG',\n",
       "       'Pakistani rupee hits historic low of 200 against US dollar \\nhttps://t.co/Ijr2xshisP',\n",
       "       'RT @CricketNDTV: The Pakistan Cricket Board has ended up with bumper profits of 2.3 billion PKR from organising the 7th edition of the Paki…',\n",
       "       'RT @geonews_urdu: ڈالر کی قیمت میں اضافہ عمران خان کے آئی ایم ایف سے معاہدے اور اس کی خلاف ورزی کے اثرات ہیں، وزیر خزانہ\\n\\nمزید پڑھیں: https…',\n",
       "       'ڈالر کی قیمت میں اضافہ عمران خان کے آئی ایم ایف سے معاہدے اور اس کی خلاف ورزی کے اثرات ہیں، وزیر خزانہ\\n\\nمزید پڑھیں:… https://t.co/6bhTiLan0A'],\n",
       "      dtype=object)"
      ]
     },
     "execution_count": 31,
     "metadata": {},
     "output_type": "execute_result"
    }
   ],
   "source": [
    "# T\n",
    "data_Top5_MostInflunce = data[data['updated_followers_count']>=4424450]\n",
    "data_Top5_MostInflunce['tweets'].values"
   ]
  },
  {
   "cell_type": "code",
   "execution_count": 29,
   "id": "aa7ee6b6",
   "metadata": {},
   "outputs": [
    {
     "data": {
      "text/plain": [
       "24330               Pakistan\n",
       "25532                  India\n",
       "40157                  India\n",
       "66737    Islamabad, Pakistan\n",
       "67140               Pakistan\n",
       "Name: user_profile_location, dtype: object"
      ]
     },
     "execution_count": 29,
     "metadata": {},
     "output_type": "execute_result"
    }
   ],
   "source": [
    "# Malaysia is not among the Top5 Most Influce based on this dataset. \n",
    "data_Top5_MostInflunce['user_profile_location']"
   ]
  },
  {
   "cell_type": "markdown",
   "id": "813a0400",
   "metadata": {},
   "source": [
    "### Who have many followers? (Top 5)"
   ]
  },
  {
   "cell_type": "code",
   "execution_count": 32,
   "id": "1b3e6775",
   "metadata": {},
   "outputs": [
    {
     "data": {
      "text/plain": [
       "24330      PTIofficial\n",
       "25532       IndiaToday\n",
       "40157             ndtv\n",
       "66737    MaryamNSharif\n",
       "67140     geonews_urdu\n",
       "Name: user, dtype: object"
      ]
     },
     "execution_count": 32,
     "metadata": {},
     "output_type": "execute_result"
    }
   ],
   "source": [
    "data_Top5_MostInflunce['user']"
   ]
  },
  {
   "cell_type": "markdown",
   "id": "a984ac96",
   "metadata": {},
   "source": [
    "### Trends followers count in Twitter"
   ]
  },
  {
   "cell_type": "code",
   "execution_count": 33,
   "id": "bc2fab22",
   "metadata": {},
   "outputs": [
    {
     "data": {
      "text/plain": [
       "<Axes: xlabel='updated_followers_count', ylabel='count'>"
      ]
     },
     "execution_count": 33,
     "metadata": {},
     "output_type": "execute_result"
    },
    {
     "data": {
      "image/png": "[encoded data removed]",
      "text/plain": [
       "<Figure size 864x432 with 1 Axes>"
      ]
     },
     "metadata": {
      "needs_background": "light"
     },
     "output_type": "display_data"
    }
   ],
   "source": [
    "import seaborn as sns\n",
    "import matplotlib.pyplot as plt\n",
    "\n",
    "plt.figure(figsize=(12,6))\n",
    "sns.countplot(x='updated_followers_count',data=data_aboveMean)"
   ]
  },
  {
   "cell_type": "code",
   "execution_count": 34,
   "id": "844cad2f",
   "metadata": {},
   "outputs": [],
   "source": [
    "data_8700_8900 = data[data['updated_followers_count']>=8700]\n",
    "data_8700_8900 = data_8700_8900[data_8700_8900['updated_followers_count']<=8900]"
   ]
  },
  {
   "cell_type": "code",
   "execution_count": 35,
   "id": "42cb4cf8",
   "metadata": {},
   "outputs": [
    {
     "data": {
      "text/plain": [
       "<Axes: xlabel='updated_followers_count', ylabel='count'>"
      ]
     },
     "execution_count": 35,
     "metadata": {},
     "output_type": "execute_result"
    },
    {
     "data": {
      "image/png": "[encoded data removed]",
      "text/plain": [
       "<Figure size 864x432 with 1 Axes>"
      ]
     },
     "metadata": {
      "needs_background": "light"
     },
     "output_type": "display_data"
    }
   ],
   "source": [
    "plt.figure(figsize=(12,6))\n",
    "sns.countplot(x='updated_followers_count',data=data_8700_8900)"
   ]
  },
  {
   "cell_type": "markdown",
   "id": "68062212",
   "metadata": {},
   "source": [
    "### Trends likes count in twitter"
   ]
  },
  {
   "cell_type": "code",
   "execution_count": 36,
   "id": "b108de3a",
   "metadata": {},
   "outputs": [
    {
     "data": {
      "text/plain": [
       "<Axes: xlabel='likes', ylabel='count'>"
      ]
     },
     "execution_count": 36,
     "metadata": {},
     "output_type": "execute_result"
    },
    {
     "data": {
      "image/png": "[encoded data removed]",
      "text/plain": [
       "<Figure size 864x432 with 1 Axes>"
      ]
     },
     "metadata": {
      "needs_background": "light"
     },
     "output_type": "display_data"
    }
   ],
   "source": [
    "plt.figure(figsize=(12,6))\n",
    "sns.countplot(x='likes',data=data)"
   ]
  },
  {
   "cell_type": "code",
   "execution_count": 37,
   "id": "7a463b19",
   "metadata": {
    "scrolled": true
   },
   "outputs": [
    {
     "data": {
      "text/html": [
       "<div>\n",
       "<style scoped>\n",
       "    .dataframe tbody tr th:only-of-type {\n",
       "        vertical-align: middle;\n",
       "    }\n",
       "\n",
       "    .dataframe tbody tr th {\n",
       "        vertical-align: top;\n",
       "    }\n",
       "\n",
       "    .dataframe thead th {\n",
       "        text-align: right;\n",
       "    }\n",
       "</style>\n",
       "<table border=\"1\" class=\"dataframe\">\n",
       "  <thead>\n",
       "    <tr style=\"text-align: right;\">\n",
       "      <th></th>\n",
       "      <th>id</th>\n",
       "      <th>user_created_time</th>\n",
       "      <th>user</th>\n",
       "      <th>user_description</th>\n",
       "      <th>user_followers_count</th>\n",
       "      <th>user_profile_location</th>\n",
       "      <th>tweet_geo_loc</th>\n",
       "      <th>tweets</th>\n",
       "      <th>time</th>\n",
       "      <th>updated_followers_count</th>\n",
       "    </tr>\n",
       "    <tr>\n",
       "      <th>likes</th>\n",
       "      <th></th>\n",
       "      <th></th>\n",
       "      <th></th>\n",
       "      <th></th>\n",
       "      <th></th>\n",
       "      <th></th>\n",
       "      <th></th>\n",
       "      <th></th>\n",
       "      <th></th>\n",
       "      <th></th>\n",
       "    </tr>\n",
       "  </thead>\n",
       "  <tbody>\n",
       "    <tr>\n",
       "      <th>-1.0</th>\n",
       "      <td>21206</td>\n",
       "      <td>21206</td>\n",
       "      <td>21206</td>\n",
       "      <td>21206</td>\n",
       "      <td>21206</td>\n",
       "      <td>21206</td>\n",
       "      <td>21206</td>\n",
       "      <td>21206</td>\n",
       "      <td>21206</td>\n",
       "      <td>21206</td>\n",
       "    </tr>\n",
       "    <tr>\n",
       "      <th>0.0</th>\n",
       "      <td>41322</td>\n",
       "      <td>41322</td>\n",
       "      <td>41322</td>\n",
       "      <td>41322</td>\n",
       "      <td>41322</td>\n",
       "      <td>41322</td>\n",
       "      <td>41322</td>\n",
       "      <td>41322</td>\n",
       "      <td>41322</td>\n",
       "      <td>41322</td>\n",
       "    </tr>\n",
       "    <tr>\n",
       "      <th>1.0</th>\n",
       "      <td>3890</td>\n",
       "      <td>3890</td>\n",
       "      <td>3890</td>\n",
       "      <td>3890</td>\n",
       "      <td>3890</td>\n",
       "      <td>3890</td>\n",
       "      <td>3890</td>\n",
       "      <td>3890</td>\n",
       "      <td>3890</td>\n",
       "      <td>3890</td>\n",
       "    </tr>\n",
       "    <tr>\n",
       "      <th>2.0</th>\n",
       "      <td>1536</td>\n",
       "      <td>1536</td>\n",
       "      <td>1536</td>\n",
       "      <td>1536</td>\n",
       "      <td>1536</td>\n",
       "      <td>1536</td>\n",
       "      <td>1536</td>\n",
       "      <td>1536</td>\n",
       "      <td>1536</td>\n",
       "      <td>1536</td>\n",
       "    </tr>\n",
       "    <tr>\n",
       "      <th>3.0</th>\n",
       "      <td>814</td>\n",
       "      <td>814</td>\n",
       "      <td>814</td>\n",
       "      <td>814</td>\n",
       "      <td>814</td>\n",
       "      <td>814</td>\n",
       "      <td>814</td>\n",
       "      <td>814</td>\n",
       "      <td>814</td>\n",
       "      <td>814</td>\n",
       "    </tr>\n",
       "    <tr>\n",
       "      <th>...</th>\n",
       "      <td>...</td>\n",
       "      <td>...</td>\n",
       "      <td>...</td>\n",
       "      <td>...</td>\n",
       "      <td>...</td>\n",
       "      <td>...</td>\n",
       "      <td>...</td>\n",
       "      <td>...</td>\n",
       "      <td>...</td>\n",
       "      <td>...</td>\n",
       "    </tr>\n",
       "    <tr>\n",
       "      <th>3172.0</th>\n",
       "      <td>1</td>\n",
       "      <td>1</td>\n",
       "      <td>1</td>\n",
       "      <td>1</td>\n",
       "      <td>1</td>\n",
       "      <td>1</td>\n",
       "      <td>1</td>\n",
       "      <td>1</td>\n",
       "      <td>1</td>\n",
       "      <td>1</td>\n",
       "    </tr>\n",
       "    <tr>\n",
       "      <th>3275.0</th>\n",
       "      <td>1</td>\n",
       "      <td>1</td>\n",
       "      <td>1</td>\n",
       "      <td>1</td>\n",
       "      <td>1</td>\n",
       "      <td>1</td>\n",
       "      <td>1</td>\n",
       "      <td>1</td>\n",
       "      <td>1</td>\n",
       "      <td>1</td>\n",
       "    </tr>\n",
       "    <tr>\n",
       "      <th>3640.0</th>\n",
       "      <td>1</td>\n",
       "      <td>1</td>\n",
       "      <td>1</td>\n",
       "      <td>1</td>\n",
       "      <td>1</td>\n",
       "      <td>1</td>\n",
       "      <td>1</td>\n",
       "      <td>1</td>\n",
       "      <td>1</td>\n",
       "      <td>1</td>\n",
       "    </tr>\n",
       "    <tr>\n",
       "      <th>5744.0</th>\n",
       "      <td>1</td>\n",
       "      <td>1</td>\n",
       "      <td>1</td>\n",
       "      <td>1</td>\n",
       "      <td>1</td>\n",
       "      <td>1</td>\n",
       "      <td>1</td>\n",
       "      <td>1</td>\n",
       "      <td>1</td>\n",
       "      <td>1</td>\n",
       "    </tr>\n",
       "    <tr>\n",
       "      <th>6021.0</th>\n",
       "      <td>1</td>\n",
       "      <td>1</td>\n",
       "      <td>1</td>\n",
       "      <td>1</td>\n",
       "      <td>1</td>\n",
       "      <td>1</td>\n",
       "      <td>1</td>\n",
       "      <td>1</td>\n",
       "      <td>1</td>\n",
       "      <td>1</td>\n",
       "    </tr>\n",
       "  </tbody>\n",
       "</table>\n",
       "<p>223 rows × 10 columns</p>\n",
       "</div>"
      ],
      "text/plain": [
       "            id  user_created_time   user  user_description   \n",
       "likes                                                        \n",
       "-1.0     21206              21206  21206             21206  \\\n",
       " 0.0     41322              41322  41322             41322   \n",
       " 1.0      3890               3890   3890              3890   \n",
       " 2.0      1536               1536   1536              1536   \n",
       " 3.0       814                814    814               814   \n",
       "...        ...                ...    ...               ...   \n",
       " 3172.0      1                  1      1                 1   \n",
       " 3275.0      1                  1      1                 1   \n",
       " 3640.0      1                  1      1                 1   \n",
       " 5744.0      1                  1      1                 1   \n",
       " 6021.0      1                  1      1                 1   \n",
       "\n",
       "         user_followers_count  user_profile_location  tweet_geo_loc  tweets   \n",
       "likes                                                                         \n",
       "-1.0                    21206                  21206          21206   21206  \\\n",
       " 0.0                    41322                  41322          41322   41322   \n",
       " 1.0                     3890                   3890           3890    3890   \n",
       " 2.0                     1536                   1536           1536    1536   \n",
       " 3.0                      814                    814            814     814   \n",
       "...                       ...                    ...            ...     ...   \n",
       " 3172.0                     1                      1              1       1   \n",
       " 3275.0                     1                      1              1       1   \n",
       " 3640.0                     1                      1              1       1   \n",
       " 5744.0                     1                      1              1       1   \n",
       " 6021.0                     1                      1              1       1   \n",
       "\n",
       "          time  updated_followers_count  \n",
       "likes                                    \n",
       "-1.0     21206                    21206  \n",
       " 0.0     41322                    41322  \n",
       " 1.0      3890                     3890  \n",
       " 2.0      1536                     1536  \n",
       " 3.0       814                      814  \n",
       "...        ...                      ...  \n",
       " 3172.0      1                        1  \n",
       " 3275.0      1                        1  \n",
       " 3640.0      1                        1  \n",
       " 5744.0      1                        1  \n",
       " 6021.0      1                        1  \n",
       "\n",
       "[223 rows x 10 columns]"
      ]
     },
     "execution_count": 37,
     "metadata": {},
     "output_type": "execute_result"
    }
   ],
   "source": [
    "data_gb_like = data.groupby('likes')\n",
    "data_gb_like.count()"
   ]
  },
  {
   "cell_type": "code",
   "execution_count": 38,
   "id": "d6519c97",
   "metadata": {
    "scrolled": true
   },
   "outputs": [
    {
     "data": {
      "text/plain": [
       "likes\n",
       "-1.0       21206\n",
       " 0.0       41322\n",
       " 1.0        3890\n",
       " 2.0        1536\n",
       " 3.0         814\n",
       "           ...  \n",
       " 3172.0        1\n",
       " 3275.0        1\n",
       " 3640.0        1\n",
       " 5744.0        1\n",
       " 6021.0        1\n",
       "Length: 223, dtype: int64"
      ]
     },
     "execution_count": 38,
     "metadata": {},
     "output_type": "execute_result"
    }
   ],
   "source": [
    "data_gb_like.size()"
   ]
  },
  {
   "cell_type": "code",
   "execution_count": 39,
   "id": "d0f34806",
   "metadata": {},
   "outputs": [
    {
     "data": {
      "text/plain": [
       "41322"
      ]
     },
     "execution_count": 39,
     "metadata": {},
     "output_type": "execute_result"
    }
   ],
   "source": [
    "data_gb_like.size().max()  # most of the tweets (which is 7267 tweets) get 6021 likes."
   ]
  },
  {
   "cell_type": "code",
   "execution_count": 40,
   "id": "13060fa2",
   "metadata": {},
   "outputs": [
    {
     "data": {
      "text/plain": [
       "3890"
      ]
     },
     "execution_count": 40,
     "metadata": {},
     "output_type": "execute_result"
    }
   ],
   "source": [
    "data_moreThan0_Likes = data[data['likes']>0]\n",
    "data_moreThan0_Likes = data_moreThan0_Likes.groupby('likes')\n",
    "data_moreThan0_Likes.size().max()"
   ]
  },
  {
   "cell_type": "code",
   "execution_count": 41,
   "id": "210c2d21",
   "metadata": {},
   "outputs": [],
   "source": [
    "data_1_500_Like = data[data['likes']>=1]\n",
    "data_1_500_Like = data_1_500_Like[data_1_500_Like['likes']<=20]\n",
    "#data_1_500_Like = data_1_500_Like.groupby('likes')"
   ]
  },
  {
   "cell_type": "code",
   "execution_count": 42,
   "id": "abb6ba5d",
   "metadata": {},
   "outputs": [
    {
     "data": {
      "text/plain": [
       "<Axes: xlabel='likes', ylabel='count'>"
      ]
     },
     "execution_count": 42,
     "metadata": {},
     "output_type": "execute_result"
    },
    {
     "data": {
      "image/png": "[encoded data removed]",
      "text/plain": [
       "<Figure size 864x432 with 1 Axes>"
      ]
     },
     "metadata": {
      "needs_background": "light"
     },
     "output_type": "display_data"
    }
   ],
   "source": [
    "plt.figure(figsize=(12,6))\n",
    "sns.countplot(x='likes',data=data_1_500_Like)"
   ]
  },
  {
   "cell_type": "code",
   "execution_count": null,
   "id": "5c106943",
   "metadata": {},
   "outputs": [],
   "source": []
  }
 ],
 "metadata": {
  "kernelspec": {
   "display_name": "Python 3 (ipykernel)",
   "language": "python",
   "name": "python3"
  },
  "language_info": {
   "codemirror_mode": {
    "name": "ipython",
    "version": 3
   },
   "file_extension": ".py",
   "mimetype": "text/x-python",
   "name": "python",
   "nbconvert_exporter": "python",
   "pygments_lexer": "ipython3",
   "version": "3.9.12"
  }
 },
 "nbformat": 4,
 "nbformat_minor": 5
}
